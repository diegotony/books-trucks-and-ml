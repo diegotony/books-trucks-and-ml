{
 "cells": [
  {
   "cell_type": "markdown",
   "metadata": {},
   "source": [
    "# INFORME  DEL PROYECTO INTELIGENCIA ARTIFICIAL AVANZADA\n",
    "\n",
    "## NOMBRE DEL PROYECTO:\n",
    "Books,Trucks and ML\n",
    "\n",
    "## GRUPO DE TRABAJO:\n",
    "Diego Antonio Castillo\n",
    "\n",
    "## OBJETIVOS\n",
    "### General:\n",
    "- Analizar los datos de los  Dataset y aplicar los algoritmos de Machine Learning de Aprendizaje No Supervisado\n",
    "\n",
    "### Específicos:\n",
    "- Aplicar los algoritmos de clustering y asociacion en los dataset seleccionados.\n",
    "\n",
    "## DESCRIPCIÓN:\n",
    "\n",
    "El presente trabajo se aplicará los conocimientos alcanzados en Inteligencia Artificial Avanzada para analizar los datasets seleccionados, en este caso un dataset de costes de fabricación de carros y camiones, y de libros donde se califica de acuerdo a unas métricas. \n"
   ]
  },
  {
   "cell_type": "markdown",
   "metadata": {},
   "source": [
    "##  COMPONENTES:\n",
    "### DataSet\n",
    "\n",
    "#### Nombre: Goodreads-books (https://www.kaggle.com/jealousleopard/goodreadsbooks)\n",
    "\n",
    "#### Descripción:\n",
    "\n",
    "La razón detrás de la creación de este conjunto de datos es bastante sencilla:el autor de este dataset enumero los libros para todos los amantes de los libros, independientemente del idioma y la publicación y todo eso. La nube de los libros que desea leer: todos los enfoques posibles para explorar este conjunto de datos son bienvenidos. El autor de este dataset comenzo a crear este conjunto de datos el 25 de mayo de 2019 con la intención de actualizarlo con frecuencia.\n"
   ]
  },
  {
   "cell_type": "code",
   "execution_count": 4,
   "metadata": {
    "scrolled": true
   },
   "outputs": [
    {
     "data": {
      "text/html": [
       "<div>\n",
       "<style scoped>\n",
       "    .dataframe tbody tr th:only-of-type {\n",
       "        vertical-align: middle;\n",
       "    }\n",
       "\n",
       "    .dataframe tbody tr th {\n",
       "        vertical-align: top;\n",
       "    }\n",
       "\n",
       "    .dataframe thead th {\n",
       "        text-align: right;\n",
       "    }\n",
       "</style>\n",
       "<table border=\"1\" class=\"dataframe\">\n",
       "  <thead>\n",
       "    <tr style=\"text-align: right;\">\n",
       "      <th></th>\n",
       "      <th>bookID</th>\n",
       "      <th>title</th>\n",
       "      <th>authors</th>\n",
       "      <th>average_rating</th>\n",
       "      <th>isbn</th>\n",
       "      <th>isbn13</th>\n",
       "      <th>language_code</th>\n",
       "      <th># num_pages</th>\n",
       "      <th>ratings_count</th>\n",
       "      <th>text_reviews_count</th>\n",
       "      <th>Unnamed: 10</th>\n",
       "      <th>Unnamed: 11</th>\n",
       "      <th>Unnamed: 12</th>\n",
       "    </tr>\n",
       "  </thead>\n",
       "  <tbody>\n",
       "    <tr>\n",
       "      <th>0</th>\n",
       "      <td>1</td>\n",
       "      <td>Harry Potter and the Half-Blood Prince (Harry Potter  #6)</td>\n",
       "      <td>J.K. Rowling-Mary GrandPré</td>\n",
       "      <td>4.56</td>\n",
       "      <td>439785960</td>\n",
       "      <td>9780439785969</td>\n",
       "      <td>eng</td>\n",
       "      <td>652</td>\n",
       "      <td>1944099.0</td>\n",
       "      <td>26249.0</td>\n",
       "      <td>NaN</td>\n",
       "      <td>NaN</td>\n",
       "      <td>NaN</td>\n",
       "    </tr>\n",
       "    <tr>\n",
       "      <th>1</th>\n",
       "      <td>2</td>\n",
       "      <td>Harry Potter and the Order of the Phoenix (Harry Potter  #5)</td>\n",
       "      <td>J.K. Rowling-Mary GrandPré</td>\n",
       "      <td>4.49</td>\n",
       "      <td>439358078</td>\n",
       "      <td>9780439358071</td>\n",
       "      <td>eng</td>\n",
       "      <td>870</td>\n",
       "      <td>1996446.0</td>\n",
       "      <td>27613.0</td>\n",
       "      <td>NaN</td>\n",
       "      <td>NaN</td>\n",
       "      <td>NaN</td>\n",
       "    </tr>\n",
       "  </tbody>\n",
       "</table>\n",
       "</div>"
      ],
      "text/plain": [
       "   bookID                                                         title  \\\n",
       "0       1     Harry Potter and the Half-Blood Prince (Harry Potter  #6)   \n",
       "1       2  Harry Potter and the Order of the Phoenix (Harry Potter  #5)   \n",
       "\n",
       "                      authors  average_rating       isbn         isbn13  \\\n",
       "0  J.K. Rowling-Mary GrandPré            4.56  439785960  9780439785969   \n",
       "1  J.K. Rowling-Mary GrandPré            4.49  439358078  9780439358071   \n",
       "\n",
       "  language_code # num_pages  ratings_count  text_reviews_count  Unnamed: 10  \\\n",
       "0           eng         652      1944099.0             26249.0          NaN   \n",
       "1           eng         870      1996446.0             27613.0          NaN   \n",
       "\n",
       "   Unnamed: 11  Unnamed: 12  \n",
       "0          NaN          NaN  \n",
       "1          NaN          NaN  "
      ]
     },
     "execution_count": 4,
     "metadata": {},
     "output_type": "execute_result"
    }
   ],
   "source": [
    "data = pd.read_csv(\"/home/tony/data/books2.csv\")\n",
    "data2 = pd.read_csv(\"/home/tony/data/books2.csv\")\n",
    "data.head(2)"
   ]
  },
  {
   "cell_type": "markdown",
   "metadata": {},
   "source": [
    "#### Técnicas de Aprendizaje No Supervisado a aplicar Clustering\n",
    "##### K-means\n",
    "\n",
    "Es un método de cuantificación vectorial, originalmente del procesamiento de señales, que es popular para el análisis de conglomerados en la minería de datos. k-means clustering tiene como objetivo dividir n observaciones en k clústeres en los que cada observación pertenece al clúster con la media más cercana, que sirve como prototipo del clúster. Esto da como resultado una partición del espacio de datos en celdas "
   ]
  },
  {
   "cell_type": "markdown",
   "metadata": {},
   "source": [
    "### DataSet\n",
    "#### Nombre: Craigslist Cars+Trucks Data (https://www.kaggle.com/austinreese/craigslist-carstrucks-data)\n",
    "#### Descripción:\n",
    "Craigslist es la colección de vehículos usados ​​más grande del mundo en venta, sin embargo, es muy difícil reunirlos todos en el mismo lugar. Se aplicó web scraping para crear este conjunto de datos que incluye todas las entradas de vehículos usados ​​dentro de los Estados Unidos en Craigslist.\n"
   ]
  },
  {
   "cell_type": "code",
   "execution_count": 135,
   "metadata": {},
   "outputs": [
    {
     "data": {
      "text/html": [
       "<div>\n",
       "<style scoped>\n",
       "    .dataframe tbody tr th:only-of-type {\n",
       "        vertical-align: middle;\n",
       "    }\n",
       "\n",
       "    .dataframe tbody tr th {\n",
       "        vertical-align: top;\n",
       "    }\n",
       "\n",
       "    .dataframe thead th {\n",
       "        text-align: right;\n",
       "    }\n",
       "</style>\n",
       "<table border=\"1\" class=\"dataframe\">\n",
       "  <thead>\n",
       "    <tr style=\"text-align: right;\">\n",
       "      <th></th>\n",
       "      <th>url</th>\n",
       "      <th>city</th>\n",
       "      <th>price</th>\n",
       "      <th>year</th>\n",
       "      <th>manufacturer</th>\n",
       "      <th>make</th>\n",
       "      <th>condition</th>\n",
       "      <th>cylinders</th>\n",
       "      <th>fuel</th>\n",
       "      <th>odometer</th>\n",
       "      <th>...</th>\n",
       "      <th>paint_color</th>\n",
       "      <th>image_url</th>\n",
       "      <th>lat</th>\n",
       "      <th>long</th>\n",
       "      <th>county_fips</th>\n",
       "      <th>county_name</th>\n",
       "      <th>state_fips</th>\n",
       "      <th>state_code</th>\n",
       "      <th>state_name</th>\n",
       "      <th>weather</th>\n",
       "    </tr>\n",
       "  </thead>\n",
       "  <tbody>\n",
       "    <tr>\n",
       "      <th>0</th>\n",
       "      <td>https://marshall.craigslist.org/cto/d/2010-dodge-challenger-se/6717448841.html</td>\n",
       "      <td>marshall</td>\n",
       "      <td>11900</td>\n",
       "      <td>2010.0</td>\n",
       "      <td>dodge</td>\n",
       "      <td>challenger se</td>\n",
       "      <td>good</td>\n",
       "      <td>6 cylinders</td>\n",
       "      <td>gas</td>\n",
       "      <td>43600.0</td>\n",
       "      <td>...</td>\n",
       "      <td>red</td>\n",
       "      <td>https://images.craigslist.org/00i0i_2ggH1eKDNKZ_600x450.jpg</td>\n",
       "      <td>43.4775</td>\n",
       "      <td>-96.7041</td>\n",
       "      <td>46083.0</td>\n",
       "      <td>Lincoln</td>\n",
       "      <td>46.0</td>\n",
       "      <td>SD</td>\n",
       "      <td>South Dakota</td>\n",
       "      <td>38.0</td>\n",
       "    </tr>\n",
       "    <tr>\n",
       "      <th>1</th>\n",
       "      <td>https://marshall.craigslist.org/cto/d/fleetwood-wilderness-trailer/6713515522.html</td>\n",
       "      <td>marshall</td>\n",
       "      <td>1515</td>\n",
       "      <td>1999.0</td>\n",
       "      <td>NaN</td>\n",
       "      <td>fleetwood</td>\n",
       "      <td>NaN</td>\n",
       "      <td>NaN</td>\n",
       "      <td>gas</td>\n",
       "      <td>NaN</td>\n",
       "      <td>...</td>\n",
       "      <td>NaN</td>\n",
       "      <td>https://images.craigslist.org/00M0M_irjh7SjEcUc_600x450.jpg</td>\n",
       "      <td>44.7612</td>\n",
       "      <td>-96.6907</td>\n",
       "      <td>46039.0</td>\n",
       "      <td>Deuel</td>\n",
       "      <td>46.0</td>\n",
       "      <td>SD</td>\n",
       "      <td>South Dakota</td>\n",
       "      <td>38.0</td>\n",
       "    </tr>\n",
       "    <tr>\n",
       "      <th>2</th>\n",
       "      <td>https://marshall.craigslist.org/cto/d/2008-ford-150-super-charged/6717040051.html</td>\n",
       "      <td>marshall</td>\n",
       "      <td>17550</td>\n",
       "      <td>2008.0</td>\n",
       "      <td>ford</td>\n",
       "      <td>f-150</td>\n",
       "      <td>NaN</td>\n",
       "      <td>NaN</td>\n",
       "      <td>gas</td>\n",
       "      <td>NaN</td>\n",
       "      <td>...</td>\n",
       "      <td>NaN</td>\n",
       "      <td>https://images.craigslist.org/00s0s_eL2XFhEUcx3_600x450.jpg</td>\n",
       "      <td>44.1415</td>\n",
       "      <td>-103.2052</td>\n",
       "      <td>46093.0</td>\n",
       "      <td>Meade</td>\n",
       "      <td>46.0</td>\n",
       "      <td>SD</td>\n",
       "      <td>South Dakota</td>\n",
       "      <td>38.0</td>\n",
       "    </tr>\n",
       "  </tbody>\n",
       "</table>\n",
       "<p>3 rows × 26 columns</p>\n",
       "</div>"
      ],
      "text/plain": [
       "                                                                                  url  \\\n",
       "0      https://marshall.craigslist.org/cto/d/2010-dodge-challenger-se/6717448841.html   \n",
       "1  https://marshall.craigslist.org/cto/d/fleetwood-wilderness-trailer/6713515522.html   \n",
       "2   https://marshall.craigslist.org/cto/d/2008-ford-150-super-charged/6717040051.html   \n",
       "\n",
       "       city  price    year manufacturer           make condition    cylinders  \\\n",
       "0  marshall  11900  2010.0        dodge  challenger se      good  6 cylinders   \n",
       "1  marshall   1515  1999.0          NaN      fleetwood       NaN          NaN   \n",
       "2  marshall  17550  2008.0         ford          f-150       NaN          NaN   \n",
       "\n",
       "  fuel  odometer  ... paint_color  \\\n",
       "0  gas   43600.0  ...         red   \n",
       "1  gas       NaN  ...         NaN   \n",
       "2  gas       NaN  ...         NaN   \n",
       "\n",
       "                                                     image_url      lat  \\\n",
       "0  https://images.craigslist.org/00i0i_2ggH1eKDNKZ_600x450.jpg  43.4775   \n",
       "1  https://images.craigslist.org/00M0M_irjh7SjEcUc_600x450.jpg  44.7612   \n",
       "2  https://images.craigslist.org/00s0s_eL2XFhEUcx3_600x450.jpg  44.1415   \n",
       "\n",
       "       long county_fips county_name state_fips state_code    state_name  \\\n",
       "0  -96.7041     46083.0     Lincoln       46.0         SD  South Dakota   \n",
       "1  -96.6907     46039.0       Deuel       46.0         SD  South Dakota   \n",
       "2 -103.2052     46093.0       Meade       46.0         SD  South Dakota   \n",
       "\n",
       "   weather  \n",
       "0     38.0  \n",
       "1     38.0  \n",
       "2     38.0  \n",
       "\n",
       "[3 rows x 26 columns]"
      ]
     },
     "execution_count": 135,
     "metadata": {},
     "output_type": "execute_result"
    }
   ],
   "source": [
    "data_total = pd.read_csv(\"/home/tony/data/craigslistVehiclesFull.csv\")\n",
    "data_total_clean = data_total.replace(numpy.nan,'',regex=True)\n",
    "data_total.head(3)"
   ]
  },
  {
   "cell_type": "markdown",
   "metadata": {},
   "source": [
    "#### Técnicas de Aprendizaje No Supervisado a aplicar para asociacion\n",
    "##### Apriori\n",
    "Es un algoritmo para la extracción frecuente de conjuntos de elementos y el aprendizaje de reglas de asociación sobre bases de datos transaccionales.  Los conjuntos de elementos frecuentes determinados por Apriori se pueden usar para determinar las reglas de asociación que destacan las tendencias generales en la base de datos.\n",
    "\n"
   ]
  },
  {
   "cell_type": "markdown",
   "metadata": {},
   "source": [
    "## MARCO TEÓRICO"
   ]
  },
  {
   "cell_type": "markdown",
   "metadata": {},
   "source": [
    "### Aprendizaje no supervisado\n",
    "Es un método de Aprendizaje Automático donde un modelo es ajustado a las observaciones. Se distingue del Aprendizaje supervisado por el hecho de que no hay un conocimiento a priori. En el aprendizaje no supervisado, un conjunto de datos de objetos de entrada es tratado. Así, el aprendizaje no supervisado típicamente trata los objetos de entrada como un conjunto de variables aleatorias, siendo construido un modelo de densidad para el conjunto de datos.\n",
    "\n",
    "### Reseñas de un libro\n",
    "La reseña es un escrito donde se resume o describe lo más importante de un libro, película, presentación, obra u otros. Sirve para presentar una visión crítica breve y profunda sobre algo. La reseña es comúnmente usada en revistas, periódicos y blogs para mostrar la visión del que escribe con respecto a lo reseñado.\n",
    "\n",
    "### k-means\n",
    "\n",
    "K-means clustering es un método de cuantificación vectorial, originalmente del procesamiento de señales, que es popular para el análisis de clústeres en la minería de datos. k-means clustering tiene como objetivo dividir n observaciones en k clústeres en los que cada observación pertenece al clúster con la media más cercana, que sirve como prototipo del clúster. Esto da como resultado una partición del espacio de datos en celdas Voronoi.\n",
    "\n",
    "### tf–idf\n",
    "\n",
    "En la recuperación de información, tf – idf o TFIDF, abreviatura de frecuencia de frecuencia de documento inversa, es una estadística numérica que pretende reflejar la importancia de una palabra para un documento en una colección o un corpus. A menudo se usa como un factor de ponderación en las búsquedas de recuperación de información, extracción de texto y modelado de usuarios. El valor de tf – idf aumenta proporcionalmente al número de veces que aparece una palabra en el documento y se compensa con la cantidad de documentos en el cuerpo que contiene la palabra, lo que ayuda a ajustar el hecho de que algunas palabras aparecen con más frecuencia en general. tf – idf es uno de los esquemas de ponderación de términos más populares en la actualidad; El 83% de los sistemas de recomendación basados en texto en bibliotecas digitales usan tf – idf.\n",
    "\n",
    "### Apriori\n",
    "Es un algoritmo para la extracción frecuente de conjuntos de elementos y el aprendizaje de reglas de asociación sobre bases de datos transaccionales. Continúa identificando los elementos individuales frecuentes en la base de datos y extendiéndolos a conjuntos de elementos cada vez más grandes, siempre y cuando esos conjuntos de elementos aparezcan con la frecuencia suficiente en la base de datos. Los conjuntos de elementos frecuentes determinados por Apriori se pueden usar para determinar las reglas de asociación que destacan las tendencias generales en la base de datos: esto tiene aplicaciones en dominios como el análisis de la cesta de mercado.\n",
    "\n",
    "### Craiglist\n",
    "\n",
    "Craigslist es la colección de vehículos usados más grande del mundo en venta,  resulta muy complicado reunir todos los vehiculos en el mismo lugar. "
   ]
  },
  {
   "cell_type": "markdown",
   "metadata": {},
   "source": [
    "## EXPERIMENTACIÓN"
   ]
  },
  {
   "cell_type": "markdown",
   "metadata": {},
   "source": [
    "### Algoritmo 1 : Clustering K-means"
   ]
  },
  {
   "cell_type": "markdown",
   "metadata": {},
   "source": [
    "Para el ejemplo de este algoritmo se hace el analisis de cluster de los titulos  de los libros."
   ]
  },
  {
   "cell_type": "code",
   "execution_count": 2,
   "metadata": {},
   "outputs": [
    {
     "name": "stderr",
     "output_type": "stream",
     "text": [
      "[nltk_data] Downloading package stopwords to /home/tony/nltk_data...\n",
      "[nltk_data]   Package stopwords is already up-to-date!\n"
     ]
    }
   ],
   "source": [
    "# Init las librerias\n",
    "import nltk\n",
    "from nltk import FreqDist\n",
    "nltk.download('stopwords') # run this one time\n",
    "import pandas as pd\n",
    "pd.set_option(\"display.max_colwidth\", 200)\n",
    "import numpy\n",
    "import re\n",
    "import spacy\n",
    "import gensim \n",
    "from gensim import corpora\n",
    "# librerias para visualizacion\n",
    "import pyLDAvis\n",
    "import pyLDAvis.gensim\n",
    "import matplotlib.pyplot as plt\n",
    "import seaborn as sns\n",
    "from nltk.corpus import stopwords\n",
    "%matplotlib inline"
   ]
  },
  {
   "cell_type": "code",
   "execution_count": 138,
   "metadata": {},
   "outputs": [],
   "source": [
    "# Limpiar los datos vacios (NA,nan)\n",
    "data.fillna(0,inplace=True)"
   ]
  },
  {
   "cell_type": "code",
   "execution_count": 21,
   "metadata": {},
   "outputs": [],
   "source": [
    "# Se hace un analisis previo de los datos\n",
    "def freq_words(x, terms = 30):\n",
    "  all_words = ' '.join([text for text in x])\n",
    "  all_words = all_words.split()\n",
    "\n",
    "  fdist = FreqDist(all_words)\n",
    "  words_df = pd.DataFrame({'word':list(fdist.keys()), 'count':list(fdist.values())})\n",
    "\n",
    "  # top 20 palabras mas frecuentes\n",
    "  d = words_df.nlargest(columns=\"count\", n = terms) \n",
    "  plt.figure(figsize=(20,5))\n",
    "  ax = sns.barplot(data=d, x= \"word\", y = \"count\")\n",
    "  ax.set(ylabel = 'Count')\n",
    "  plt.show()"
   ]
  },
  {
   "cell_type": "code",
   "execution_count": 142,
   "metadata": {},
   "outputs": [
    {
     "data": {
      "image/png": "[encoded data removed]",
      "text/plain": [
       "<Figure size 1440x360 with 1 Axes>"
      ]
     },
     "metadata": {
      "needs_background": "light"
     },
     "output_type": "display_data"
    }
   ],
   "source": [
    "# palabras mas frecuentes sin eliminar los stopwords\n",
    "freq_words(data['title'])"
   ]
  },
  {
   "cell_type": "code",
   "execution_count": 146,
   "metadata": {},
   "outputs": [],
   "source": [
    "# removemos los simbolos especiales\n",
    "data['title'] = data['title'].str.replace(\"[^a-zA-Z#]\", \" \")"
   ]
  },
  {
   "cell_type": "code",
   "execution_count": 145,
   "metadata": {},
   "outputs": [],
   "source": [
    "# declaramos los stopwords en ingles  para usarla despues\n",
    "stop_words = stopwords.words('english')"
   ]
  },
  {
   "cell_type": "code",
   "execution_count": 144,
   "metadata": {},
   "outputs": [],
   "source": [
    "# creamos una funcion para eliminar los stopwords\n",
    "def remove_stopwords(rev):\n",
    "    rev_new = \" \".join([i for i in rev if i not in stop_words])\n",
    "    return rev_new\n",
    "\n",
    "# eliminamos palabras con longitud de 3\n",
    "data['title'] = data['title'].apply(lambda x: ' '.join([w for w in x.split() if len(w)>2]))\n",
    "\n",
    "# removemos los stopwords en el texto\n",
    "reviews = [remove_stopwords(r.split()) for r in data['title']]\n",
    "\n",
    "# convertimos el texto a minuscula\n",
    "reviews = [r.lower() for r in reviews]"
   ]
  },
  {
   "cell_type": "code",
   "execution_count": 148,
   "metadata": {},
   "outputs": [
    {
     "name": "stdout",
     "output_type": "stream",
     "text": [
      "Requirement already satisfied: en_core_web_sm==2.1.0 from https://github.com/explosion/spacy-models/releases/download/en_core_web_sm-2.1.0/en_core_web_sm-2.1.0.tar.gz#egg=en_core_web_sm==2.1.0 in /home/tony/envs/ia-python3.7/lib/python3.7/site-packages (2.1.0)\n",
      "\u001b[38;5;2m✔ Download and installation successful\u001b[0m\n",
      "You can now load the model via spacy.load('en_core_web_sm')\n",
      "\u001b[38;5;2m✔ Linking successful\u001b[0m\n",
      "/home/tony/envs/ia-python3.7/lib/python3.7/site-packages/en_core_web_sm -->\n",
      "/home/tony/envs/ia-python3.7/lib/python3.7/site-packages/spacy/data/en\n",
      "You can now load the model via spacy.load('en')\n"
     ]
    }
   ],
   "source": [
    "# descargamos el paquete de palabras en ingles de spacy\n",
    "!python -m spacy download en # one time run"
   ]
  },
  {
   "cell_type": "code",
   "execution_count": 150,
   "metadata": {},
   "outputs": [],
   "source": [
    "# usamos spacy para lematizar \n",
    "nlp = spacy.load('en', disable=['parser', 'ner'])\n",
    "\n",
    "# se crea unfuncion para lematizar\n",
    "def lemmatization(texts, tags=['NOUN', 'ADJ']): # filter noun and adjective\n",
    "       output = []\n",
    "       for sent in texts:\n",
    "             doc = nlp(\" \".join(sent)) \n",
    "             output.append([token.lemma_ for token in doc if token.pos_ in tags])\n",
    "       return output"
   ]
  },
  {
   "cell_type": "code",
   "execution_count": 17,
   "metadata": {},
   "outputs": [
    {
     "name": "stdout",
     "output_type": "stream",
     "text": [
      "['harry', 'potter', 'order', 'phoenix', 'harry', 'potter']\n"
     ]
    }
   ],
   "source": [
    "# tokenizar las palabras encontradas\n",
    "tokenized_reviews = pd.Series(reviews).apply(lambda x: x.split())\n",
    "print(tokenized_reviews[1])"
   ]
  },
  {
   "cell_type": "code",
   "execution_count": 18,
   "metadata": {},
   "outputs": [
    {
     "name": "stdout",
     "output_type": "stream",
     "text": [
      "['harry', 'potter', 'order', 'harry', 'potter']\n"
     ]
    }
   ],
   "source": [
    "# imprimimos las lematizacion realizada\n",
    "reviews_2 = lemmatization(tokenized_reviews)\n",
    "print(reviews_2[1]) "
   ]
  },
  {
   "cell_type": "code",
   "execution_count": 19,
   "metadata": {
    "scrolled": false
   },
   "outputs": [
    {
     "data": {
      "image/png": "[encoded data removed]",
      "text/plain": [
       "<Figure size 1440x360 with 1 Axes>"
      ]
     },
     "metadata": {
      "needs_background": "light"
     },
     "output_type": "display_data"
    }
   ],
   "source": [
    "# unimos todas las palabras obtenidas en la lematizacion\n",
    "reviews_3 = []\n",
    "for i in range(len(reviews_2)):\n",
    "    reviews_3.append(' '.join(reviews_2[i]))\n",
    "\n",
    "data['title'] = reviews_3\n",
    "\n",
    "freq_words(data['title'], 35)"
   ]
  },
  {
   "cell_type": "markdown",
   "metadata": {},
   "source": [
    "Aplicacion del Clustering"
   ]
  },
  {
   "cell_type": "code",
   "execution_count": 151,
   "metadata": {},
   "outputs": [],
   "source": [
    "from sklearn.feature_extraction.text import TfidfVectorizer\n",
    "from sklearn.cluster import KMeans\n",
    "from sklearn.metrics import adjusted_rand_score\n",
    "import re\n",
    "import os\n",
    "import codecs\n",
    "from sklearn import feature_extraction\n",
    "import mpld3\n",
    "from nltk.stem.snowball import SnowballStemmer"
   ]
  },
  {
   "cell_type": "code",
   "execution_count": 152,
   "metadata": {},
   "outputs": [
    {
     "name": "stdout",
     "output_type": "stream",
     "text": [
      "['i', 'me', 'my', 'myself', 'we', 'our', 'ours', 'ourselves', 'you', \"you're\"]\n"
     ]
    }
   ],
   "source": [
    "stopwords = nltk.corpus.stopwords.words('english')\n",
    "print (stopwords[:10])"
   ]
  },
  {
   "cell_type": "code",
   "execution_count": 154,
   "metadata": {},
   "outputs": [],
   "source": [
    "stemmer = SnowballStemmer(\"english\")"
   ]
  },
  {
   "cell_type": "code",
   "execution_count": 155,
   "metadata": {},
   "outputs": [],
   "source": [
    "def tokenize_and_stem(text):\n",
    "    # primero tokenizar por oración, luego por palabra para asegurar que la puntuación sea capturada como su propio token\n",
    "    tokens = [word for sent in nltk.sent_tokenize(text) for word in nltk.word_tokenize(sent)]\n",
    "    filtered_tokens = []\n",
    "    # filtrar cualquier token que no contenga letras (por ejemplo, tokens numéricos, puntuación sin procesar)\n",
    "    for token in tokens:\n",
    "        if re.search('[a-zA-Z]', token):\n",
    "            filtered_tokens.append(token)\n",
    "    stems = [stemmer.stem(t) for t in filtered_tokens]\n",
    "    return stems\n",
    "\n",
    "\n",
    "def tokenize_only(text):\n",
    "   # primero tokenizo por oración, luego por palabra para asegurar que la puntuación sea capturada como su propio token\n",
    "    tokens = [word.lower() for sent in nltk.sent_tokenize(text) for word in nltk.word_tokenize(sent)]\n",
    "    filtered_tokens = []\n",
    "   # filtrar cualquier token que no contenga letras (por ejemplo, tokens numéricos, puntuación sin procesar)\n",
    "    for token in tokens:\n",
    "        if re.search('[a-zA-Z]', token):\n",
    "            filtered_tokens.append(token)\n",
    "    return filtered_tokens"
   ]
  },
  {
   "cell_type": "code",
   "execution_count": 156,
   "metadata": {},
   "outputs": [],
   "source": [
    "list_data = data['title']\n",
    "totalvocab_stemmed = []\n",
    "totalvocab_tokenized = []\n",
    "for i in list_data:\n",
    "    allwords_stemmed = tokenize_and_stem(i) # para cada elemento en la columna título, tokenize y stem\n",
    "    totalvocab_stemmed.extend(allwords_stemmed) #Extiendo la lista 'totalvocab_stemmed', le doy mas informacion\n",
    "    \n",
    "    allwords_tokenized = tokenize_only(i)\n",
    "    totalvocab_tokenized.extend(allwords_tokenized)"
   ]
  },
  {
   "cell_type": "code",
   "execution_count": 157,
   "metadata": {},
   "outputs": [
    {
     "name": "stdout",
     "output_type": "stream",
     "text": [
      "there are 65188 items in vocab_frame\n"
     ]
    }
   ],
   "source": [
    "vocab_frame = pd.DataFrame({'words': totalvocab_tokenized}, index = totalvocab_stemmed)\n",
    "print('there are ' + str(vocab_frame.shape[0]) + ' items in vocab_frame')"
   ]
  },
  {
   "cell_type": "code",
   "execution_count": 158,
   "metadata": {},
   "outputs": [
    {
     "name": "stdout",
     "output_type": "stream",
     "text": [
      "         words\n",
      "harri    harry\n",
      "potter  potter\n",
      "and        and\n",
      "the        the\n",
      "half      half\n"
     ]
    }
   ],
   "source": [
    "print(vocab_frame.head())"
   ]
  },
  {
   "cell_type": "code",
   "execution_count": 28,
   "metadata": {},
   "outputs": [
    {
     "name": "stderr",
     "output_type": "stream",
     "text": [
      "/home/tony/envs/ia-python3.7/lib/python3.7/site-packages/sklearn/feature_extraction/text.py:300: UserWarning: Your stop_words may be inconsistent with your preprocessing. Tokenizing the stop words generated tokens ['abov', 'afterward', 'alon', 'alreadi', 'alway', 'ani', 'anoth', 'anyon', 'anyth', 'anywher', 'becam', 'becaus', 'becom', 'befor', 'besid', 'cri', 'describ', 'dure', 'els', 'elsewher', 'empti', 'everi', 'everyon', 'everyth', 'everywher', 'fifti', 'forti', 'henc', 'hereaft', 'herebi', 'howev', 'hundr', 'inde', 'mani', 'meanwhil', 'moreov', 'nobodi', 'noon', 'noth', 'nowher', 'onc', 'onli', 'otherwis', 'ourselv', 'perhap', 'pleas', 'sever', 'sinc', 'sincer', 'sixti', 'someon', 'someth', 'sometim', 'somewher', 'themselv', 'thenc', 'thereaft', 'therebi', 'therefor', 'togeth', 'twelv', 'twenti', 'veri', 'whatev', 'whenc', 'whenev', 'wherea', 'whereaft', 'wherebi', 'wherev', 'whi', 'yourselv'] not in stop_words.\n",
      "  'stop_words.' % sorted(inconsistent))\n"
     ]
    },
    {
     "name": "stdout",
     "output_type": "stream",
     "text": [
      "(11004, 20000)\n"
     ]
    }
   ],
   "source": [
    "tfidf_vectorizer = TfidfVectorizer(max_df=1.0, max_features=20000,\n",
    "                                 min_df=1, stop_words='english',\n",
    "                                 use_idf=True, tokenizer=tokenize_and_stem, ngram_range=(1,3))\n",
    "\n",
    "tfidf_matrix = tfidf_vectorizer.fit_transform(list_data) # Se entreana la data\n",
    "\n",
    "print(tfidf_matrix.shape)"
   ]
  },
  {
   "cell_type": "code",
   "execution_count": 159,
   "metadata": {},
   "outputs": [],
   "source": [
    "terms = tfidf_vectorizer.get_feature_names()"
   ]
  },
  {
   "cell_type": "code",
   "execution_count": 124,
   "metadata": {},
   "outputs": [
    {
     "name": "stdout",
     "output_type": "stream",
     "text": [
      "[[ 0.00000000e+00  6.22951255e-01  6.67372032e-01 ...  1.00000000e+00\n",
      "   1.00000000e+00  9.84719851e-01]\n",
      " [ 6.22951255e-01 -2.22044605e-16  4.82548204e-01 ...  1.00000000e+00\n",
      "   1.00000000e+00  9.77583805e-01]\n",
      " [ 6.67372032e-01  4.82548204e-01  0.00000000e+00 ...  1.00000000e+00\n",
      "   1.00000000e+00  9.78790760e-01]\n",
      " ...\n",
      " [ 1.00000000e+00  1.00000000e+00  1.00000000e+00 ...  0.00000000e+00\n",
      "   1.00000000e+00  9.96999064e-01]\n",
      " [ 1.00000000e+00  1.00000000e+00  1.00000000e+00 ...  1.00000000e+00\n",
      "   0.00000000e+00  9.95682001e-01]\n",
      " [ 9.84719851e-01  9.77583805e-01  9.78790760e-01 ...  9.96999064e-01\n",
      "   9.95682001e-01 -2.22044605e-16]]\n"
     ]
    }
   ],
   "source": [
    "from sklearn.metrics.pairwise import cosine_similarity\n",
    "dist = 1 - cosine_similarity(tfidf_matrix)\n",
    "print(dist)"
   ]
  },
  {
   "cell_type": "code",
   "execution_count": 126,
   "metadata": {},
   "outputs": [
    {
     "name": "stdout",
     "output_type": "stream",
     "text": [
      "CPU times: user 519 µs, sys: 274 µs, total: 793 µs\n",
      "Wall time: 800 µs\n"
     ]
    }
   ],
   "source": [
    "%%time\n",
    "from sklearn.cluster import KMeans\n",
    "vectorizer = TfidfVectorizer(stop_words='english')"
   ]
  },
  {
   "cell_type": "markdown",
   "metadata": {},
   "source": [
    "#### Num. Clusters: 10"
   ]
  },
  {
   "cell_type": "code",
   "execution_count": 127,
   "metadata": {},
   "outputs": [],
   "source": [
    "\n",
    "num_clusters_10 = 10\n",
    "\n",
    "km_10 = KMeans(n_clusters=num_clusters_10)\n",
    "\n",
    "km_10.fit(tfidf_matrix)\n",
    "\n",
    "clusters_10 = km_10.labels_.tolist()"
   ]
  },
  {
   "cell_type": "code",
   "execution_count": 128,
   "metadata": {},
   "outputs": [],
   "source": [
    "films = { 'title': data2['title'], 'cluster': clusters_10, 'rank':data2['average_rating'] }\n",
    "\n",
    "frame = pd.DataFrame(films, index = [clusters_10] , columns = [ 'title', 'cluster','rank'])"
   ]
  },
  {
   "cell_type": "code",
   "execution_count": 130,
   "metadata": {},
   "outputs": [],
   "source": [
    "from __future__ import print_function\n",
    "\n",
    "print(\"Top terms per cluster:\")\n",
    "print()\n",
    "# ordenar los centros de agrupamiento por proximidad al centroide\n",
    "order_centroids = km_10.cluster_centers_.argsort()[:, ::-1] \n",
    "\n",
    "for i in range(num_clusters_10):\n",
    "    print(\"Cluster %d words: \\n\" % i, end='')\n",
    "    \n",
    "    for ind in order_centroids[i, :4]: # Imprimo 4 con palabras por grupo\n",
    "        print('{0} \\n'.format(vocab_frame.loc[terms[ind].split(' ')].values.tolist()[0][0], end=','))"
   ]
  },
  {
   "cell_type": "markdown",
   "metadata": {},
   "source": [
    "Top terms per cluster:\n",
    "\n",
    "Cluster 0 words: \n",
    "story\n",
    "short\n",
    "short\n",
    "complete\n",
    "\n",
    "Cluster 1 words: \n",
    "lord\n",
    "lord\n",
    "ring\n",
    "lord\n",
    "\n",
    "Cluster 2 words: \n",
    "life\n",
    "world\n",
    "book\n",
    "war\n",
    "\n",
    "Cluster 3 words: \n",
    "rainbow\n",
    "gravity\n",
    "gravity\n",
    "goblin\n",
    "\n",
    "Cluster 4 words: \n",
    "darksword\n",
    "darksword\n",
    "darksword\n",
    "darksword\n",
    "\n",
    "Cluster 5 words: \n",
    "word\n",
    "word\n",
    "void\n",
    "book\n"
   ]
  },
  {
   "cell_type": "markdown",
   "metadata": {},
   "source": [
    "#### Num. Clusters: 100"
   ]
  },
  {
   "cell_type": "code",
   "execution_count": 75,
   "metadata": {},
   "outputs": [
    {
     "name": "stdout",
     "output_type": "stream",
     "text": [
      "CPU times: user 39.8 s, sys: 30.1 s, total: 1min 9s\n",
      "Wall time: 27.6 s\n"
     ]
    }
   ],
   "source": [
    "%%time\n",
    "num_clusters_100 = 100\n",
    "\n",
    "km_100 = KMeans(n_clusters=num_clusters_100)\n",
    "\n",
    "km_100.fit(tfidf_matrix)\n",
    "\n",
    "clusters_100 = km_100.labels_.tolist()\n"
   ]
  },
  {
   "cell_type": "code",
   "execution_count": 76,
   "metadata": {},
   "outputs": [],
   "source": [
    "films = { 'title': data2['title'], 'cluster': clusters_100, 'rank':data2['average_rating'] }\n",
    "\n",
    "frame = pd.DataFrame(films, index = [clusters_100] , columns = [ 'title', 'cluster','rank'])"
   ]
  },
  {
   "cell_type": "code",
   "execution_count": 79,
   "metadata": {},
   "outputs": [],
   "source": [
    "from __future__ import print_function\n",
    "\n",
    "print(\"Top terms per cluster:\")\n",
    "print()\n",
    "\n",
    "order_centroids = km_100.cluster_centers_.argsort()[:, ::-1] \n",
    "\n",
    "for i in range(num_clusters_100):\n",
    "    print(\"Cluster %d words: \\n\" % i, end='')\n",
    "    \n",
    "    for ind in order_centroids[i, :4]: \n",
    "        print('{0}\\n'.format(vocab_frame.loc[terms[ind].split(' ')].values.tolist()[0][0], end=','))\n"
   ]
  },
  {
   "cell_type": "markdown",
   "metadata": {},
   "source": [
    "Top terms per cluster:\n",
    "\n",
    "Cluster 0 words: \n",
    "bailey\n",
    "adventure\n",
    "school\n",
    "bailey\n",
    "\n",
    "Cluster 1 words: \n",
    "literature\n",
    "literature\n",
    "guide\n",
    "literature\n",
    "\n",
    "Cluster 2 words: \n",
    "ponder\n",
    "ponder\n",
    "ponder\n",
    "optimist\n",
    "\n",
    "Cluster 3 words: \n",
    "history\n",
    "time\n",
    "tale\n",
    "guide\n",
    "\n",
    "Cluster 4 words: \n",
    "reservoir\n",
    "reservoir\n",
    "chronicle\n",
    "chronicle\n",
    "\n",
    "Cluster 5 words: \n",
    "play\n",
    "complete\n",
    "complete\n",
    "theban"
   ]
  },
  {
   "cell_type": "markdown",
   "metadata": {},
   "source": [
    "#### Num. Clusters: 500"
   ]
  },
  {
   "cell_type": "code",
   "execution_count": 80,
   "metadata": {
    "scrolled": true
   },
   "outputs": [
    {
     "name": "stdout",
     "output_type": "stream",
     "text": [
      "CPU times: user 1min 47s, sys: 1min 9s, total: 2min 57s\n",
      "Wall time: 1min 44s\n"
     ]
    }
   ],
   "source": [
    "%%time\n",
    "num_clusters_500 = 500\n",
    "\n",
    "km_500 = KMeans(n_clusters=num_clusters_500)\n",
    "\n",
    "km_500.fit(tfidf_matrix)\n",
    "\n",
    "clusters_500 = km_500.labels_.tolist()"
   ]
  },
  {
   "cell_type": "code",
   "execution_count": 81,
   "metadata": {},
   "outputs": [],
   "source": [
    "films = { 'title': data2['title'], 'cluster': clusters_500, 'rank':data2['average_rating'] }\n",
    "\n",
    "frame = pd.DataFrame(films, index = [clusters_500] , columns = [ 'title', 'cluster','rank'])"
   ]
  },
  {
   "cell_type": "code",
   "execution_count": 83,
   "metadata": {},
   "outputs": [],
   "source": [
    "from __future__ import print_function\n",
    "\n",
    "print(\"Top terms per cluster:\")\n",
    "print()\n",
    "order_centroids = km_100.cluster_centers_.argsort()[:, ::-1] \n",
    "\n",
    "for i in range(num_clusters_500):\n",
    "    print(\"Cluster %d words: \\n\" % i, end='')\n",
    "    \n",
    "    for ind in order_centroids[i, :4]:\n",
    "        print('{0}\\n'.format(vocab_frame.loc[terms[ind].split(' ')].values.tolist()[0][0], end=','))\n"
   ]
  },
  {
   "cell_type": "markdown",
   "metadata": {},
   "source": [
    "Top terms per cluster:\n",
    "\n",
    "Cluster 0 words: \n",
    "bailey\n",
    "adventure\n",
    "school\n",
    "bailey\n",
    "\n",
    "Cluster 1 words: \n",
    "literature\n",
    "literature\n",
    "guide\n",
    "literature\n",
    "\n",
    "Cluster 2 words: \n",
    "ponder\n",
    "ponder\n",
    "ponder\n",
    "optimist\n",
    "\n",
    "Cluster 3 words: \n",
    "history\n",
    "time\n",
    "tale\n",
    "guide\n",
    "\n",
    "Cluster 4 words: \n",
    "reservoir\n",
    "reservoir\n",
    "chronicle\n",
    "chronicle\n",
    "\n",
    "Cluster 5 words: \n",
    "play\n",
    "complete\n",
    "complete\n",
    "theban"
   ]
  },
  {
   "cell_type": "markdown",
   "metadata": {},
   "source": [
    "#### Num. Clusters: 2000"
   ]
  },
  {
   "cell_type": "code",
   "execution_count": 84,
   "metadata": {},
   "outputs": [
    {
     "name": "stdout",
     "output_type": "stream",
     "text": [
      "CPU times: user 5min 19s, sys: 2min 4s, total: 7min 23s\n",
      "Wall time: 5min 50s\n"
     ]
    }
   ],
   "source": [
    "%%time\n",
    "num_clusters_2000 = 2000\n",
    "km_2000 = KMeans(n_clusters=num_clusters_2000)\n",
    "\n",
    "km_2000.fit(tfidf_matrix)\n",
    "\n",
    "clusters_2000 = km_2000.labels_.tolist()\n"
   ]
  },
  {
   "cell_type": "code",
   "execution_count": 85,
   "metadata": {},
   "outputs": [],
   "source": [
    "films = { 'title': data2['title'], 'cluster': clusters_2000, 'rank':data2['average_rating'] }\n",
    "\n",
    "frame = pd.DataFrame(films, index = [clusters_2000] , columns = [ 'title', 'cluster','rank'])"
   ]
  },
  {
   "cell_type": "code",
   "execution_count": 87,
   "metadata": {
    "scrolled": false
   },
   "outputs": [],
   "source": [
    "from __future__ import print_function\n",
    "\n",
    "print(\"Top terms per cluster:\")\n",
    "print()\n",
    "\n",
    "order_centroids = km_2000.cluster_centers_.argsort()[:, ::-1] \n",
    "\n",
    "for i in range(num_clusters_2000):\n",
    "    print(\"Cluster %d words: \\n\" % i, end='')\n",
    "    \n",
    "    for ind in order_centroids[i, :4]: \n",
    "        print('{0}\\n'.format(vocab_frame.loc[terms[ind].split(' ')].values.tolist()[0][0], end=','))\n"
   ]
  },
  {
   "cell_type": "markdown",
   "metadata": {},
   "source": [
    "Top terms per cluster:\n",
    "\n",
    "Cluster 0 words: \n",
    "white\n",
    "oleander\n",
    "white\n",
    "black\n",
    "\n",
    "Cluster 1 words: \n",
    "tale\n",
    "cod\n",
    "japanese\n",
    "zwei\n",
    "\n",
    "Cluster 2 words: \n",
    "jack\n",
    "reacher\n",
    "jack\n",
    "fail\n",
    "\n",
    "Cluster 3 words: \n",
    "end\n",
    "end\n",
    "world\n",
    "lighthouse\n",
    "\n",
    "Cluster 4 words: \n",
    "effington\n",
    "love\n",
    "bargaining\n",
    "wife\n",
    "\n",
    "Cluster 5 words: \n",
    "new\n",
    "book\n",
    "anthology\n",
    "gardener"
   ]
  },
  {
   "cell_type": "markdown",
   "metadata": {},
   "source": [
    "### Algoritmo 2 : Asociacion APRIORI"
   ]
  },
  {
   "cell_type": "markdown",
   "metadata": {},
   "source": [
    "Para este ejemplo se uso el algoritmo Apriori, se hace uso del dataset de una compañia de compra de autos. Se establece variables categoricas para sacar reglas de asociacion"
   ]
  },
  {
   "cell_type": "code",
   "execution_count": 5,
   "metadata": {},
   "outputs": [],
   "source": [
    "import pandas\n",
    "import numpy\n",
    "import scipy.cluster.hierarchy as shc\n",
    "from scipy.cluster.hierarchy import dendrogram, linkage  \n",
    "from matplotlib import pyplot as plt\n",
    "from sklearn.cluster import AgglomerativeClustering\n",
    "from mlxtend.preprocessing import TransactionEncoder\n",
    "from mlxtend.frequent_patterns import apriori\n",
    "from mlxtend.frequent_patterns import association_rules\n"
   ]
  },
  {
   "cell_type": "code",
   "execution_count": 6,
   "metadata": {},
   "outputs": [],
   "source": [
    "data_total = pandas.read_csv(\"/home/tony/data/craigslistVehiclesFull.csv\")\n",
    "data_total_clean = data_total.replace(numpy.nan,'',regex=True)\n"
   ]
  },
  {
   "cell_type": "code",
   "execution_count": 7,
   "metadata": {},
   "outputs": [],
   "source": [
    "data_total_clean2 = data_total_clean.replace(\"nan\",'',regex=True)"
   ]
  },
  {
   "cell_type": "code",
   "execution_count": 8,
   "metadata": {},
   "outputs": [
    {
     "data": {
      "text/html": [
       "<div>\n",
       "<style scoped>\n",
       "    .dataframe tbody tr th:only-of-type {\n",
       "        vertical-align: middle;\n",
       "    }\n",
       "\n",
       "    .dataframe tbody tr th {\n",
       "        vertical-align: top;\n",
       "    }\n",
       "\n",
       "    .dataframe thead th {\n",
       "        text-align: right;\n",
       "    }\n",
       "</style>\n",
       "<table border=\"1\" class=\"dataframe\">\n",
       "  <thead>\n",
       "    <tr style=\"text-align: right;\">\n",
       "      <th></th>\n",
       "      <th>url</th>\n",
       "      <th>city</th>\n",
       "      <th>price</th>\n",
       "      <th>year</th>\n",
       "      <th>manufacturer</th>\n",
       "      <th>make</th>\n",
       "      <th>condition</th>\n",
       "      <th>cylinders</th>\n",
       "      <th>fuel</th>\n",
       "      <th>odometer</th>\n",
       "      <th>...</th>\n",
       "      <th>paint_color</th>\n",
       "      <th>image_url</th>\n",
       "      <th>lat</th>\n",
       "      <th>long</th>\n",
       "      <th>county_fips</th>\n",
       "      <th>county_name</th>\n",
       "      <th>state_fips</th>\n",
       "      <th>state_code</th>\n",
       "      <th>state_name</th>\n",
       "      <th>weather</th>\n",
       "    </tr>\n",
       "  </thead>\n",
       "  <tbody>\n",
       "    <tr>\n",
       "      <th>0</th>\n",
       "      <td>https://marshall.craigslist.org/cto/d/2010-dodge-challenger-se/6717448841.html</td>\n",
       "      <td>marshall</td>\n",
       "      <td>11900</td>\n",
       "      <td>2010</td>\n",
       "      <td>dodge</td>\n",
       "      <td>challenger se</td>\n",
       "      <td>good</td>\n",
       "      <td>6 cylinders</td>\n",
       "      <td>gas</td>\n",
       "      <td>43600</td>\n",
       "      <td>...</td>\n",
       "      <td>red</td>\n",
       "      <td>https://images.craigslist.org/00i0i_2ggH1eKDNKZ_600x450.jpg</td>\n",
       "      <td>43.4775</td>\n",
       "      <td>-96.7041</td>\n",
       "      <td>46083</td>\n",
       "      <td>Lincoln</td>\n",
       "      <td>46</td>\n",
       "      <td>SD</td>\n",
       "      <td>South Dakota</td>\n",
       "      <td>38</td>\n",
       "    </tr>\n",
       "    <tr>\n",
       "      <th>1</th>\n",
       "      <td>https://marshall.craigslist.org/cto/d/fleetwood-wilderness-trailer/6713515522.html</td>\n",
       "      <td>marshall</td>\n",
       "      <td>1515</td>\n",
       "      <td>1999</td>\n",
       "      <td></td>\n",
       "      <td>fleetwood</td>\n",
       "      <td></td>\n",
       "      <td></td>\n",
       "      <td>gas</td>\n",
       "      <td></td>\n",
       "      <td>...</td>\n",
       "      <td></td>\n",
       "      <td>https://images.craigslist.org/00M0M_irjh7SjEcUc_600x450.jpg</td>\n",
       "      <td>44.7612</td>\n",
       "      <td>-96.6907</td>\n",
       "      <td>46039</td>\n",
       "      <td>Deuel</td>\n",
       "      <td>46</td>\n",
       "      <td>SD</td>\n",
       "      <td>South Dakota</td>\n",
       "      <td>38</td>\n",
       "    </tr>\n",
       "    <tr>\n",
       "      <th>2</th>\n",
       "      <td>https://marshall.craigslist.org/cto/d/2008-ford-150-super-charged/6717040051.html</td>\n",
       "      <td>marshall</td>\n",
       "      <td>17550</td>\n",
       "      <td>2008</td>\n",
       "      <td>ford</td>\n",
       "      <td>f-150</td>\n",
       "      <td></td>\n",
       "      <td></td>\n",
       "      <td>gas</td>\n",
       "      <td></td>\n",
       "      <td>...</td>\n",
       "      <td></td>\n",
       "      <td>https://images.craigslist.org/00s0s_eL2XFhEUcx3_600x450.jpg</td>\n",
       "      <td>44.1415</td>\n",
       "      <td>-103.2052</td>\n",
       "      <td>46093</td>\n",
       "      <td>Meade</td>\n",
       "      <td>46</td>\n",
       "      <td>SD</td>\n",
       "      <td>South Dakota</td>\n",
       "      <td>38</td>\n",
       "    </tr>\n",
       "  </tbody>\n",
       "</table>\n",
       "<p>3 rows × 26 columns</p>\n",
       "</div>"
      ],
      "text/plain": [
       "                                                                                  url  \\\n",
       "0      https://marshall.craigslist.org/cto/d/2010-dodge-challenger-se/6717448841.html   \n",
       "1  https://marshall.craigslist.org/cto/d/fleetwood-wilderness-trailer/6713515522.html   \n",
       "2   https://marshall.craigslist.org/cto/d/2008-ford-150-super-charged/6717040051.html   \n",
       "\n",
       "       city  price  year manufacturer           make condition    cylinders  \\\n",
       "0  marshall  11900  2010        dodge  challenger se      good  6 cylinders   \n",
       "1  marshall   1515  1999                   fleetwood                          \n",
       "2  marshall  17550  2008         ford          f-150                          \n",
       "\n",
       "  fuel odometer  ... paint_color  \\\n",
       "0  gas    43600  ...         red   \n",
       "1  gas           ...               \n",
       "2  gas           ...               \n",
       "\n",
       "                                                     image_url      lat  \\\n",
       "0  https://images.craigslist.org/00i0i_2ggH1eKDNKZ_600x450.jpg  43.4775   \n",
       "1  https://images.craigslist.org/00M0M_irjh7SjEcUc_600x450.jpg  44.7612   \n",
       "2  https://images.craigslist.org/00s0s_eL2XFhEUcx3_600x450.jpg  44.1415   \n",
       "\n",
       "       long county_fips county_name state_fips state_code    state_name  \\\n",
       "0  -96.7041       46083     Lincoln         46         SD  South Dakota   \n",
       "1  -96.6907       46039       Deuel         46         SD  South Dakota   \n",
       "2 -103.2052       46093       Meade         46         SD  South Dakota   \n",
       "\n",
       "   weather  \n",
       "0       38  \n",
       "1       38  \n",
       "2       38  \n",
       "\n",
       "[3 rows x 26 columns]"
      ]
     },
     "execution_count": 8,
     "metadata": {},
     "output_type": "execute_result"
    }
   ],
   "source": [
    "data_total_clean2[0:3]"
   ]
  },
  {
   "cell_type": "code",
   "execution_count": 9,
   "metadata": {},
   "outputs": [],
   "source": [
    "data = data_total_clean2[0:10000]"
   ]
  },
  {
   "cell_type": "code",
   "execution_count": 10,
   "metadata": {},
   "outputs": [
    {
     "data": {
      "text/html": [
       "<div>\n",
       "<style scoped>\n",
       "    .dataframe tbody tr th:only-of-type {\n",
       "        vertical-align: middle;\n",
       "    }\n",
       "\n",
       "    .dataframe tbody tr th {\n",
       "        vertical-align: top;\n",
       "    }\n",
       "\n",
       "    .dataframe thead th {\n",
       "        text-align: right;\n",
       "    }\n",
       "</style>\n",
       "<table border=\"1\" class=\"dataframe\">\n",
       "  <thead>\n",
       "    <tr style=\"text-align: right;\">\n",
       "      <th></th>\n",
       "      <th>url</th>\n",
       "      <th>city</th>\n",
       "      <th>price</th>\n",
       "      <th>year</th>\n",
       "      <th>manufacturer</th>\n",
       "      <th>make</th>\n",
       "      <th>condition</th>\n",
       "      <th>cylinders</th>\n",
       "      <th>fuel</th>\n",
       "      <th>odometer</th>\n",
       "      <th>...</th>\n",
       "      <th>paint_color</th>\n",
       "      <th>image_url</th>\n",
       "      <th>lat</th>\n",
       "      <th>long</th>\n",
       "      <th>county_fips</th>\n",
       "      <th>county_name</th>\n",
       "      <th>state_fips</th>\n",
       "      <th>state_code</th>\n",
       "      <th>state_name</th>\n",
       "      <th>weather</th>\n",
       "    </tr>\n",
       "  </thead>\n",
       "  <tbody>\n",
       "    <tr>\n",
       "      <th>0</th>\n",
       "      <td>https://marshall.craigslist.org/cto/d/2010-dodge-challenger-se/6717448841.html</td>\n",
       "      <td>marshall</td>\n",
       "      <td>11900</td>\n",
       "      <td>2010</td>\n",
       "      <td>dodge</td>\n",
       "      <td>challenger se</td>\n",
       "      <td>good</td>\n",
       "      <td>6 cylinders</td>\n",
       "      <td>gas</td>\n",
       "      <td>43600</td>\n",
       "      <td>...</td>\n",
       "      <td>red</td>\n",
       "      <td>https://images.craigslist.org/00i0i_2ggH1eKDNKZ_600x450.jpg</td>\n",
       "      <td>43.4775</td>\n",
       "      <td>-96.7041</td>\n",
       "      <td>46083</td>\n",
       "      <td>Lincoln</td>\n",
       "      <td>46</td>\n",
       "      <td>SD</td>\n",
       "      <td>South Dakota</td>\n",
       "      <td>38</td>\n",
       "    </tr>\n",
       "    <tr>\n",
       "      <th>1</th>\n",
       "      <td>https://marshall.craigslist.org/cto/d/fleetwood-wilderness-trailer/6713515522.html</td>\n",
       "      <td>marshall</td>\n",
       "      <td>1515</td>\n",
       "      <td>1999</td>\n",
       "      <td></td>\n",
       "      <td>fleetwood</td>\n",
       "      <td></td>\n",
       "      <td></td>\n",
       "      <td>gas</td>\n",
       "      <td></td>\n",
       "      <td>...</td>\n",
       "      <td></td>\n",
       "      <td>https://images.craigslist.org/00M0M_irjh7SjEcUc_600x450.jpg</td>\n",
       "      <td>44.7612</td>\n",
       "      <td>-96.6907</td>\n",
       "      <td>46039</td>\n",
       "      <td>Deuel</td>\n",
       "      <td>46</td>\n",
       "      <td>SD</td>\n",
       "      <td>South Dakota</td>\n",
       "      <td>38</td>\n",
       "    </tr>\n",
       "    <tr>\n",
       "      <th>2</th>\n",
       "      <td>https://marshall.craigslist.org/cto/d/2008-ford-150-super-charged/6717040051.html</td>\n",
       "      <td>marshall</td>\n",
       "      <td>17550</td>\n",
       "      <td>2008</td>\n",
       "      <td>ford</td>\n",
       "      <td>f-150</td>\n",
       "      <td></td>\n",
       "      <td></td>\n",
       "      <td>gas</td>\n",
       "      <td></td>\n",
       "      <td>...</td>\n",
       "      <td></td>\n",
       "      <td>https://images.craigslist.org/00s0s_eL2XFhEUcx3_600x450.jpg</td>\n",
       "      <td>44.1415</td>\n",
       "      <td>-103.2052</td>\n",
       "      <td>46093</td>\n",
       "      <td>Meade</td>\n",
       "      <td>46</td>\n",
       "      <td>SD</td>\n",
       "      <td>South Dakota</td>\n",
       "      <td>38</td>\n",
       "    </tr>\n",
       "  </tbody>\n",
       "</table>\n",
       "<p>3 rows × 26 columns</p>\n",
       "</div>"
      ],
      "text/plain": [
       "                                                                                  url  \\\n",
       "0      https://marshall.craigslist.org/cto/d/2010-dodge-challenger-se/6717448841.html   \n",
       "1  https://marshall.craigslist.org/cto/d/fleetwood-wilderness-trailer/6713515522.html   \n",
       "2   https://marshall.craigslist.org/cto/d/2008-ford-150-super-charged/6717040051.html   \n",
       "\n",
       "       city  price  year manufacturer           make condition    cylinders  \\\n",
       "0  marshall  11900  2010        dodge  challenger se      good  6 cylinders   \n",
       "1  marshall   1515  1999                   fleetwood                          \n",
       "2  marshall  17550  2008         ford          f-150                          \n",
       "\n",
       "  fuel odometer  ... paint_color  \\\n",
       "0  gas    43600  ...         red   \n",
       "1  gas           ...               \n",
       "2  gas           ...               \n",
       "\n",
       "                                                     image_url      lat  \\\n",
       "0  https://images.craigslist.org/00i0i_2ggH1eKDNKZ_600x450.jpg  43.4775   \n",
       "1  https://images.craigslist.org/00M0M_irjh7SjEcUc_600x450.jpg  44.7612   \n",
       "2  https://images.craigslist.org/00s0s_eL2XFhEUcx3_600x450.jpg  44.1415   \n",
       "\n",
       "       long county_fips county_name state_fips state_code    state_name  \\\n",
       "0  -96.7041       46083     Lincoln         46         SD  South Dakota   \n",
       "1  -96.6907       46039       Deuel         46         SD  South Dakota   \n",
       "2 -103.2052       46093       Meade         46         SD  South Dakota   \n",
       "\n",
       "   weather  \n",
       "0       38  \n",
       "1       38  \n",
       "2       38  \n",
       "\n",
       "[3 rows x 26 columns]"
      ]
     },
     "execution_count": 10,
     "metadata": {},
     "output_type": "execute_result"
    }
   ],
   "source": [
    "data[0:3]"
   ]
  },
  {
   "cell_type": "code",
   "execution_count": 11,
   "metadata": {},
   "outputs": [
    {
     "data": {
      "text/plain": [
       "(10000, 26)"
      ]
     },
     "execution_count": 11,
     "metadata": {},
     "output_type": "execute_result"
    }
   ],
   "source": [
    "data.shape"
   ]
  },
  {
   "cell_type": "markdown",
   "metadata": {},
   "source": [
    "Entre las caracterisiticas que se determina para la compra de los autos y camiones son:\n",
    "- color\n",
    "- año\n",
    "- condicion\n",
    "- cilindros\n",
    "- precio\n",
    "- estado de los fip\n",
    "- tipo de gasolina\n",
    "- modelo"
   ]
  },
  {
   "cell_type": "code",
   "execution_count": 12,
   "metadata": {},
   "outputs": [],
   "source": [
    "list_paint= data['paint_color']\n",
    "list_countryName= data['county_name']\n",
    "list_manufacturer= data['manufacturer']\n",
    "list_condition= data['condition']\n",
    "list_cylinders= data['cylinders']\n",
    "list_price= data['price']\n",
    "list_stateFips= data['state_fips']\n",
    "list_fuel= data['fuel']\n",
    "list_make= data['make']"
   ]
  },
  {
   "cell_type": "code",
   "execution_count": 13,
   "metadata": {},
   "outputs": [],
   "source": [
    "list_final=[]\n",
    "for x1,x2,x3,x4,x5,x6,x7,x8,x9 in zip(list_paint,list_countryName,list_manufacturer,list_condition,list_cylinders,list_price,list_stateFips,list_fuel,list_make):\n",
    "    list_reset=[]\n",
    "    if x1 != '' and x1 != 'nan' :\n",
    "        list_reset.append(str(x1))\n",
    "    if x2 != ''  and x2 != 'nan':\n",
    "        list_reset.append(str(x2))\n",
    "    if x3 != ''  and x3 != 'nan':\n",
    "        list_reset.append(str(x3))\n",
    "    if x4 != ''  and x4 != 'nan':\n",
    "        list_reset.append(str(x4))\n",
    "    if x5 != ''  and x5 != 'nan':\n",
    "        list_reset.append(str(x5))\n",
    "    if x6 != ''  and x6 != 'nan':\n",
    "        list_reset.append(str(x6))\n",
    "    if x7 != ''  and x7 != 'nan':\n",
    "        list_reset.append(str(x7))\n",
    "    if x8 != ''  and x8 != 'nan':\n",
    "        list_reset.append(str(x8))\n",
    "    if x9 != ''  and x9 != 'nan':\n",
    "        list_reset.append(str(x9))\n",
    " \n",
    "    list_final.append(list_reset)"
   ]
  },
  {
   "cell_type": "code",
   "execution_count": 14,
   "metadata": {
    "scrolled": true
   },
   "outputs": [
    {
     "data": {
      "text/plain": [
       "[['red',\n",
       "  'Lincoln',\n",
       "  'dodge',\n",
       "  'good',\n",
       "  '6 cylinders',\n",
       "  '11900',\n",
       "  '46.0',\n",
       "  'gas',\n",
       "  'challenger se'],\n",
       " ['Deuel', '1515', '46.0', 'gas', 'fleetwood'],\n",
       " ['Meade', 'ford', '17550', '46.0', 'gas', 'f-150']]"
      ]
     },
     "execution_count": 14,
     "metadata": {},
     "output_type": "execute_result"
    }
   ],
   "source": [
    "list_final[0:3]"
   ]
  },
  {
   "cell_type": "markdown",
   "metadata": {},
   "source": [
    "### 0.15"
   ]
  },
  {
   "cell_type": "code",
   "execution_count": 17,
   "metadata": {
    "scrolled": true
   },
   "outputs": [
    {
     "data": {
      "text/html": [
       "<div>\n",
       "<style scoped>\n",
       "    .dataframe tbody tr th:only-of-type {\n",
       "        vertical-align: middle;\n",
       "    }\n",
       "\n",
       "    .dataframe tbody tr th {\n",
       "        vertical-align: top;\n",
       "    }\n",
       "\n",
       "    .dataframe thead th {\n",
       "        text-align: right;\n",
       "    }\n",
       "</style>\n",
       "<table border=\"1\" class=\"dataframe\">\n",
       "  <thead>\n",
       "    <tr style=\"text-align: right;\">\n",
       "      <th></th>\n",
       "      <th>support</th>\n",
       "      <th>itemsets</th>\n",
       "    </tr>\n",
       "  </thead>\n",
       "  <tbody>\n",
       "    <tr>\n",
       "      <th>0</th>\n",
       "      <td>0.1550</td>\n",
       "      <td>(4 cylinders)</td>\n",
       "    </tr>\n",
       "    <tr>\n",
       "      <th>1</th>\n",
       "      <td>0.2011</td>\n",
       "      <td>(6 cylinders)</td>\n",
       "    </tr>\n",
       "    <tr>\n",
       "      <th>2</th>\n",
       "      <td>0.1950</td>\n",
       "      <td>(8 cylinders)</td>\n",
       "    </tr>\n",
       "    <tr>\n",
       "      <th>3</th>\n",
       "      <td>0.2562</td>\n",
       "      <td>(excellent)</td>\n",
       "    </tr>\n",
       "    <tr>\n",
       "      <th>4</th>\n",
       "      <td>0.1744</td>\n",
       "      <td>(ford)</td>\n",
       "    </tr>\n",
       "    <tr>\n",
       "      <th>5</th>\n",
       "      <td>0.8881</td>\n",
       "      <td>(gas)</td>\n",
       "    </tr>\n",
       "    <tr>\n",
       "      <th>6</th>\n",
       "      <td>0.2117</td>\n",
       "      <td>(good)</td>\n",
       "    </tr>\n",
       "    <tr>\n",
       "      <th>7</th>\n",
       "      <td>0.1504</td>\n",
       "      <td>(4 cylinders, gas)</td>\n",
       "    </tr>\n",
       "    <tr>\n",
       "      <th>8</th>\n",
       "      <td>0.1896</td>\n",
       "      <td>(6 cylinders, gas)</td>\n",
       "    </tr>\n",
       "    <tr>\n",
       "      <th>9</th>\n",
       "      <td>0.1728</td>\n",
       "      <td>(gas, 8 cylinders)</td>\n",
       "    </tr>\n",
       "    <tr>\n",
       "      <th>10</th>\n",
       "      <td>0.2366</td>\n",
       "      <td>(excellent, gas)</td>\n",
       "    </tr>\n",
       "    <tr>\n",
       "      <th>11</th>\n",
       "      <td>0.1920</td>\n",
       "      <td>(good, gas)</td>\n",
       "    </tr>\n",
       "  </tbody>\n",
       "</table>\n",
       "</div>"
      ],
      "text/plain": [
       "    support            itemsets\n",
       "0    0.1550       (4 cylinders)\n",
       "1    0.2011       (6 cylinders)\n",
       "2    0.1950       (8 cylinders)\n",
       "3    0.2562         (excellent)\n",
       "4    0.1744              (ford)\n",
       "5    0.8881               (gas)\n",
       "6    0.2117              (good)\n",
       "7    0.1504  (4 cylinders, gas)\n",
       "8    0.1896  (6 cylinders, gas)\n",
       "9    0.1728  (gas, 8 cylinders)\n",
       "10   0.2366    (excellent, gas)\n",
       "11   0.1920         (good, gas)"
      ]
     },
     "execution_count": 17,
     "metadata": {},
     "output_type": "execute_result"
    }
   ],
   "source": [
    "te = TransactionEncoder()\n",
    "te_ary = te.fit(list_final).transform(list_final)\n",
    "df = pandas.DataFrame(te_ary, columns=te.columns_)\n",
    "frequent_itemsets = apriori(df, min_support=0.15, use_colnames=True)\n",
    "frequent_itemsets"
   ]
  },
  {
   "cell_type": "code",
   "execution_count": 18,
   "metadata": {
    "scrolled": false
   },
   "outputs": [
    {
     "data": {
      "text/html": [
       "<div>\n",
       "<style scoped>\n",
       "    .dataframe tbody tr th:only-of-type {\n",
       "        vertical-align: middle;\n",
       "    }\n",
       "\n",
       "    .dataframe tbody tr th {\n",
       "        vertical-align: top;\n",
       "    }\n",
       "\n",
       "    .dataframe thead th {\n",
       "        text-align: right;\n",
       "    }\n",
       "</style>\n",
       "<table border=\"1\" class=\"dataframe\">\n",
       "  <thead>\n",
       "    <tr style=\"text-align: right;\">\n",
       "      <th></th>\n",
       "      <th>antecedents</th>\n",
       "      <th>consequents</th>\n",
       "      <th>antecedent support</th>\n",
       "      <th>consequent support</th>\n",
       "      <th>support</th>\n",
       "      <th>confidence</th>\n",
       "      <th>lift</th>\n",
       "      <th>leverage</th>\n",
       "      <th>conviction</th>\n",
       "    </tr>\n",
       "  </thead>\n",
       "  <tbody>\n",
       "    <tr>\n",
       "      <th>0</th>\n",
       "      <td>(4 cylinders)</td>\n",
       "      <td>(gas)</td>\n",
       "      <td>0.1550</td>\n",
       "      <td>0.8881</td>\n",
       "      <td>0.1504</td>\n",
       "      <td>0.970323</td>\n",
       "      <td>1.092583</td>\n",
       "      <td>0.012745</td>\n",
       "      <td>3.770543</td>\n",
       "    </tr>\n",
       "    <tr>\n",
       "      <th>1</th>\n",
       "      <td>(6 cylinders)</td>\n",
       "      <td>(gas)</td>\n",
       "      <td>0.2011</td>\n",
       "      <td>0.8881</td>\n",
       "      <td>0.1896</td>\n",
       "      <td>0.942815</td>\n",
       "      <td>1.061609</td>\n",
       "      <td>0.011003</td>\n",
       "      <td>1.956790</td>\n",
       "    </tr>\n",
       "    <tr>\n",
       "      <th>2</th>\n",
       "      <td>(8 cylinders)</td>\n",
       "      <td>(gas)</td>\n",
       "      <td>0.1950</td>\n",
       "      <td>0.8881</td>\n",
       "      <td>0.1728</td>\n",
       "      <td>0.886154</td>\n",
       "      <td>0.997809</td>\n",
       "      <td>-0.000380</td>\n",
       "      <td>0.982905</td>\n",
       "    </tr>\n",
       "    <tr>\n",
       "      <th>3</th>\n",
       "      <td>(excellent)</td>\n",
       "      <td>(gas)</td>\n",
       "      <td>0.2562</td>\n",
       "      <td>0.8881</td>\n",
       "      <td>0.2366</td>\n",
       "      <td>0.923497</td>\n",
       "      <td>1.039857</td>\n",
       "      <td>0.009069</td>\n",
       "      <td>1.462693</td>\n",
       "    </tr>\n",
       "    <tr>\n",
       "      <th>4</th>\n",
       "      <td>(good)</td>\n",
       "      <td>(gas)</td>\n",
       "      <td>0.2117</td>\n",
       "      <td>0.8881</td>\n",
       "      <td>0.1920</td>\n",
       "      <td>0.906944</td>\n",
       "      <td>1.021218</td>\n",
       "      <td>0.003989</td>\n",
       "      <td>1.202499</td>\n",
       "    </tr>\n",
       "  </tbody>\n",
       "</table>\n",
       "</div>"
      ],
      "text/plain": [
       "     antecedents consequents  antecedent support  consequent support  support  \\\n",
       "0  (4 cylinders)       (gas)              0.1550              0.8881   0.1504   \n",
       "1  (6 cylinders)       (gas)              0.2011              0.8881   0.1896   \n",
       "2  (8 cylinders)       (gas)              0.1950              0.8881   0.1728   \n",
       "3    (excellent)       (gas)              0.2562              0.8881   0.2366   \n",
       "4         (good)       (gas)              0.2117              0.8881   0.1920   \n",
       "\n",
       "   confidence      lift  leverage  conviction  \n",
       "0    0.970323  1.092583  0.012745    3.770543  \n",
       "1    0.942815  1.061609  0.011003    1.956790  \n",
       "2    0.886154  0.997809 -0.000380    0.982905  \n",
       "3    0.923497  1.039857  0.009069    1.462693  \n",
       "4    0.906944  1.021218  0.003989    1.202499  "
      ]
     },
     "execution_count": 18,
     "metadata": {},
     "output_type": "execute_result"
    }
   ],
   "source": [
    "association_rules(frequent_itemsets, metric=\"confidence\", min_threshold=0.7)"
   ]
  },
  {
   "cell_type": "markdown",
   "metadata": {},
   "source": [
    "### 0.20"
   ]
  },
  {
   "cell_type": "code",
   "execution_count": 19,
   "metadata": {
    "scrolled": false
   },
   "outputs": [
    {
     "data": {
      "text/html": [
       "<div>\n",
       "<style scoped>\n",
       "    .dataframe tbody tr th:only-of-type {\n",
       "        vertical-align: middle;\n",
       "    }\n",
       "\n",
       "    .dataframe tbody tr th {\n",
       "        vertical-align: top;\n",
       "    }\n",
       "\n",
       "    .dataframe thead th {\n",
       "        text-align: right;\n",
       "    }\n",
       "</style>\n",
       "<table border=\"1\" class=\"dataframe\">\n",
       "  <thead>\n",
       "    <tr style=\"text-align: right;\">\n",
       "      <th></th>\n",
       "      <th>support</th>\n",
       "      <th>itemsets</th>\n",
       "    </tr>\n",
       "  </thead>\n",
       "  <tbody>\n",
       "    <tr>\n",
       "      <th>0</th>\n",
       "      <td>0.2011</td>\n",
       "      <td>(6 cylinders)</td>\n",
       "    </tr>\n",
       "    <tr>\n",
       "      <th>1</th>\n",
       "      <td>0.2562</td>\n",
       "      <td>(excellent)</td>\n",
       "    </tr>\n",
       "    <tr>\n",
       "      <th>2</th>\n",
       "      <td>0.8881</td>\n",
       "      <td>(gas)</td>\n",
       "    </tr>\n",
       "    <tr>\n",
       "      <th>3</th>\n",
       "      <td>0.2117</td>\n",
       "      <td>(good)</td>\n",
       "    </tr>\n",
       "    <tr>\n",
       "      <th>4</th>\n",
       "      <td>0.2366</td>\n",
       "      <td>(excellent, gas)</td>\n",
       "    </tr>\n",
       "  </tbody>\n",
       "</table>\n",
       "</div>"
      ],
      "text/plain": [
       "   support          itemsets\n",
       "0   0.2011     (6 cylinders)\n",
       "1   0.2562       (excellent)\n",
       "2   0.8881             (gas)\n",
       "3   0.2117            (good)\n",
       "4   0.2366  (excellent, gas)"
      ]
     },
     "execution_count": 19,
     "metadata": {},
     "output_type": "execute_result"
    }
   ],
   "source": [
    "te = TransactionEncoder()\n",
    "te_ary = te.fit(list_final).transform(list_final)\n",
    "df = pandas.DataFrame(te_ary, columns=te.columns_)\n",
    "frequent_itemsets = apriori(df, min_support=0.20, use_colnames=True)\n",
    "frequent_itemsets"
   ]
  },
  {
   "cell_type": "code",
   "execution_count": 20,
   "metadata": {
    "scrolled": false
   },
   "outputs": [
    {
     "data": {
      "text/html": [
       "<div>\n",
       "<style scoped>\n",
       "    .dataframe tbody tr th:only-of-type {\n",
       "        vertical-align: middle;\n",
       "    }\n",
       "\n",
       "    .dataframe tbody tr th {\n",
       "        vertical-align: top;\n",
       "    }\n",
       "\n",
       "    .dataframe thead th {\n",
       "        text-align: right;\n",
       "    }\n",
       "</style>\n",
       "<table border=\"1\" class=\"dataframe\">\n",
       "  <thead>\n",
       "    <tr style=\"text-align: right;\">\n",
       "      <th></th>\n",
       "      <th>antecedents</th>\n",
       "      <th>consequents</th>\n",
       "      <th>antecedent support</th>\n",
       "      <th>consequent support</th>\n",
       "      <th>support</th>\n",
       "      <th>confidence</th>\n",
       "      <th>lift</th>\n",
       "      <th>leverage</th>\n",
       "      <th>conviction</th>\n",
       "    </tr>\n",
       "  </thead>\n",
       "  <tbody>\n",
       "    <tr>\n",
       "      <th>0</th>\n",
       "      <td>(excellent)</td>\n",
       "      <td>(gas)</td>\n",
       "      <td>0.2562</td>\n",
       "      <td>0.8881</td>\n",
       "      <td>0.2366</td>\n",
       "      <td>0.923497</td>\n",
       "      <td>1.039857</td>\n",
       "      <td>0.009069</td>\n",
       "      <td>1.462693</td>\n",
       "    </tr>\n",
       "  </tbody>\n",
       "</table>\n",
       "</div>"
      ],
      "text/plain": [
       "   antecedents consequents  antecedent support  consequent support  support  \\\n",
       "0  (excellent)       (gas)              0.2562              0.8881   0.2366   \n",
       "\n",
       "   confidence      lift  leverage  conviction  \n",
       "0    0.923497  1.039857  0.009069    1.462693  "
      ]
     },
     "execution_count": 20,
     "metadata": {},
     "output_type": "execute_result"
    }
   ],
   "source": [
    "association_rules(frequent_itemsets, metric=\"confidence\", min_threshold=0.7)"
   ]
  },
  {
   "cell_type": "markdown",
   "metadata": {},
   "source": [
    "## VALIDACIÓN Y ANÁLISIS DE RESULTADOS"
   ]
  },
  {
   "cell_type": "markdown",
   "metadata": {},
   "source": [
    "Entre los resultados que se pudieron encontrar son los siguientes:\n",
    "\n"
   ]
  },
  {
   "cell_type": "markdown",
   "metadata": {},
   "source": [
    "| Algortimo |     Metrica    | Resultados                                                      | Validacion                                                                                                                                                                                  |\n",
    "|-----------|---------|-----------------------------------------------------------------|---------------------------------------------------------------------------------------------------------------------------------------------------------------------------------------------|\n",
    "| K-means   | 10      | Las palabras fueron clasificadas en los 10 clusters asignados   | No es correcto ya que se asigna pocos clusteres, por lo que no se puede separar las palabras correctamente por similitud                                                                    |\n",
    "| K-means   | 100     | Las palabras fueron clasificadas en los 100 clusters asignados  | No es correcto ya que se asigna pocos clusteres, por lo que no se puede separar las palabras correctamente por similitud                                                                    |\n",
    "| K-means   | 500     | Las palabras fueron clasificadas en los 500 clusters asignados  | Es correcto ya que se asigna mas clusteres en relacion a los dos experimentos anteriores, por lo que se organizan las palabras decentemente por su similitud, pero no es del todo eficiente |\n",
    "| K-means   | 1000    | Las palabras fueron clasificadas en los 1000 clusters asignados | Es correcto ya que se asigna mas clusteres en relacion a los tres experimentos anteriores, por lo que se organizan las palabras mucho mejor, pero se puede mejorar                          |\n",
    "| K-means   | 2000    | Las palabras fueron clasificadas en los 2000 clusters asignados | Es correcto ya que se asigna mas clusteres en relacion a los cuatro experimentos anteriores, por lo que se organizan las palabras de mejor manera que la anterior                           |\n",
    "| Apriori   | 0.15    | Se generaron 12 reglas  con el soporte minimo de 0.15           | Es correcto, se quitaron las reglas repetidas , por lo que tenemos un total de 5 reglas de asociacion con un soporte mas del 0.15, y un soporte consecutivo de 0.8881, ademas de que el soporte varia de 0.15 a 0.22                           |\n",
    "| Apriori   | 0.20    | Se generaron 5 reglas con el mínimo de soporte de 0.20          | Es correcto, pero se obtiene una regla de asociacion en la que se tiene un factor de confianza de 0.92, y un soporte de 0.2366                                                             |"
   ]
  },
  {
   "cell_type": "markdown",
   "metadata": {},
   "source": [
    "## CONCLUSIONES"
   ]
  },
  {
   "cell_type": "markdown",
   "metadata": {},
   "source": [
    "- Se comprobo que a mayor numero de clusteres de obtuvo un mejor resultado en clasificar las palabras, sin embargo tambien demora mas la clasificacion a mayor numero de clusteres.\n",
    "- Al aumentar el soporte minimo, se obtienen menos reglas, sin embargo el factor de confianza aumenta considerablemente, pero esto funciona mas como un filtro para separar las reglas de asociacion con mayor soporte."
   ]
  },
  {
   "cell_type": "markdown",
   "metadata": {},
   "source": [
    "## **Bibliografia:**\n",
    "\n",
    "https://es.wikipedia.org/wiki/Aprendizaje_no_supervisado\n",
    "\n",
    "https://sites.google.com/site/aprendoyaprendo/httpsitesgooglecomsiteaprendoyaprendo/lengua/castellano/actividades/la-resena-de-un-libro\n",
    "\n",
    "https://www.analyticsvidhya.com/blog/2018/10/mining-online-reviews-topic-modeling-lda/\n",
    "\n",
    "http://rasbt.github.io/mlxtend/user_guide/frequent_patterns/association_rules/\n",
    "\n",
    "https://www.jacobsoft.com.mx/es_mx/aprendizaje-con-reglas-de-asociacion/\n",
    "\n",
    "http://brandonrose.org/clustering\n",
    "\n",
    "https://en.wikipedia.org/wiki/K-means_clustering\n"
   ]
  }
 ],
 "metadata": {
  "kernelspec": {
   "display_name": "Python 3",
   "language": "python",
   "name": "python3"
  },
  "language_info": {
   "codemirror_mode": {
    "name": "ipython",
    "version": 3
   },
   "file_extension": ".py",
   "mimetype": "text/x-python",
   "name": "python",
   "nbconvert_exporter": "python",
   "pygments_lexer": "ipython3",
   "version": "3.7.3"
  }
 },
 "nbformat": 4,
 "nbformat_minor": 2
}
